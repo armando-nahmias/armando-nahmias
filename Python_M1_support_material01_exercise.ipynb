{
  "nbformat": 4,
  "nbformat_minor": 0,
  "metadata": {
    "colab": {
      "name": "Python_M1_support material01_exercise.ipynb",
      "provenance": [],
      "collapsed_sections": [],
      "toc_visible": true
    },
    "kernelspec": {
      "name": "python3",
      "display_name": "Python 3"
    }
  },
  "cells": [
    {
      "cell_type": "markdown",
      "metadata": {
        "id": "KJqp9AANOCtf"
      },
      "source": [
        "<img src=\"https://raw.githubusercontent.com/andre-marcos-perez/ebac-course-utils/main/media/logo/newebac_logo_black_half.png\" alt=\"ebac-logo\">\n",
        "\n",
        "---\n",
        "\n",
        "# **Módulo** | Python: Variáveis & Tipos de Dados\n",
        "Caderno de **Exercícios**<br> \n",
        "Professor [André Perez](https://www.linkedin.com/in/andremarcosperez/)\n",
        "\n",
        "---"
      ]
    },
    {
      "cell_type": "markdown",
      "metadata": {
        "id": "d9jDtUbDOE1-"
      },
      "source": [
        "# **Tópicos**\n",
        "\n",
        "<ol type=\"1\">\n",
        "  <li>Introdução ao Google Colab;</li>\n",
        "  <li>Variáveis;</li>\n",
        "  <li>Números;</li>\n",
        "  <li><i>Strings;</i></li>\n",
        "  <li>Boleanos.</li>\n",
        "</ol>"
      ]
    },
    {
      "cell_type": "markdown",
      "metadata": {
        "id": "SmoHgt-lwkpD"
      },
      "source": [
        "---"
      ]
    },
    {
      "cell_type": "markdown",
      "metadata": {
        "id": "GABI6OW8OfQ2"
      },
      "source": [
        "# **Exercícios**"
      ]
    },
    {
      "cell_type": "markdown",
      "metadata": {
        "id": "muD1vxozykSC"
      },
      "source": [
        "## 1\\. Google Colab"
      ]
    },
    {
      "cell_type": "markdown",
      "metadata": {
        "id": "ahrFfCuBxJKs"
      },
      "source": [
        "Crie uma célula de código que escreva o texto \"Olá mundo!\", utilize o comando `print`."
      ]
    },
    {
      "cell_type": "code",
      "metadata": {
        "colab": {
          "base_uri": "https://localhost:8080/"
        },
        "id": "H7CLhvKVK9eU",
        "outputId": "9bdbfaa5-3add-44ed-88f9-1a9c4f5c4a68"
      },
      "source": [
        "print(\"Olá mundo!\")"
      ],
      "execution_count": 1,
      "outputs": [
        {
          "output_type": "stream",
          "name": "stdout",
          "text": [
            "Olá mundo!\n"
          ]
        }
      ]
    },
    {
      "cell_type": "markdown",
      "metadata": {
        "id": "KI9zQRT2xa7m"
      },
      "source": [
        "Crie uma célua de texto e adicione uma imagem."
      ]
    },
    {
      "cell_type": "markdown",
      "metadata": {
        "id": "FLAHmnicMJqS"
      },
      "source": [
        "![external-content.duckduckgo.com.jpg](data:image/jpeg;base64,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)"
      ]
    },
    {
      "cell_type": "markdown",
      "metadata": {
        "id": "zMN1Q3jdwoJm"
      },
      "source": [
        "---"
      ]
    },
    {
      "cell_type": "markdown",
      "metadata": {
        "id": "tFYOPLS3xiwe"
      },
      "source": [
        "## 2\\. Números"
      ]
    },
    {
      "cell_type": "markdown",
      "metadata": {
        "id": "O2G9gt7tx2c-"
      },
      "source": [
        "Preencha as células de código para preencher os valores de (A), (B) e (C) na tabela de ticket médio abaixo:\n",
        "\n",
        "<br>\n",
        "\n",
        "| Dia   | Valor Total Vendas | Qtd Total Vendas | Ticket Medio |\n",
        "|-------|--------------------|------------------|--------------|\n",
        "| 19/01 | (A)                | 3                | 320.52       |\n",
        "| 20/01 | 834.47             | (B)              | 119.21       |\n",
        "| 23/01 | 15378.12           | 5                | (C)          |"
      ]
    },
    {
      "cell_type": "code",
      "metadata": {
        "id": "nsrKH9EizNRD",
        "colab": {
          "base_uri": "https://localhost:8080/"
        },
        "outputId": "5fb282f1-d494-4340-ca29-76f2f29b2d86"
      },
      "source": [
        "# (A)\n",
        "qt_vendas_A = 3\n",
        "ticket_medio_A = 320.52\n",
        "A = ticket_medio_A * qt_vendas_A\n",
        "print(A)"
      ],
      "execution_count": 9,
      "outputs": [
        {
          "output_type": "stream",
          "name": "stdout",
          "text": [
            "961.56\n"
          ]
        }
      ]
    },
    {
      "cell_type": "code",
      "metadata": {
        "id": "QQ1GBGHJzMmi",
        "colab": {
          "base_uri": "https://localhost:8080/"
        },
        "outputId": "40d2463a-c750-4cfc-bfb0-afe567499e42"
      },
      "source": [
        "# (B)\n",
        "valor_vendas_B = 834.47\n",
        "ticket_medio_B = 119.21\n",
        "B = valor_vendas_B / ticket_medio_B\n",
        "print(B)"
      ],
      "execution_count": 10,
      "outputs": [
        {
          "output_type": "stream",
          "name": "stdout",
          "text": [
            "7.000000000000001\n"
          ]
        }
      ]
    },
    {
      "cell_type": "code",
      "metadata": {
        "id": "W-li0nSMzKNa",
        "colab": {
          "base_uri": "https://localhost:8080/"
        },
        "outputId": "c611dc2a-78ff-4307-d7ec-8fd749d9355d"
      },
      "source": [
        "# (C)\n",
        "valor_vendas_C = 15378.12\n",
        "qt_vendas_C = 5\n",
        "C = valor_vendas_C / qt_vendas_C\n",
        "print(C)"
      ],
      "execution_count": 11,
      "outputs": [
        {
          "output_type": "stream",
          "name": "stdout",
          "text": [
            "3075.6240000000003\n"
          ]
        }
      ]
    },
    {
      "cell_type": "markdown",
      "metadata": {
        "id": "3eoP-Vj9yzh8"
      },
      "source": [
        "---"
      ]
    },
    {
      "cell_type": "markdown",
      "metadata": {
        "id": "yUJ6kdony6Pr"
      },
      "source": [
        "## 3\\. Strings"
      ]
    },
    {
      "cell_type": "markdown",
      "metadata": {
        "id": "KDuZpg-5zCvO"
      },
      "source": [
        "Aplique três métodos distintos na *string* abaixo, você pode conferir alguns métodos neste [link](https://www.w3schools.com/python/python_ref_string.asp):"
      ]
    },
    {
      "cell_type": "code",
      "metadata": {
        "id": "k9zbyf7BzjKj"
      },
      "source": [
        "cancao = 'Roda mundo, roda gigante, roda moinho, roda pião.'"
      ],
      "execution_count": 12,
      "outputs": []
    },
    {
      "cell_type": "code",
      "metadata": {
        "colab": {
          "base_uri": "https://localhost:8080/"
        },
        "id": "ERB8uO4cPG17",
        "outputId": "05009af3-43b9-4fcf-a17e-cf5dd3e447fc"
      },
      "source": [
        "cancao.split()"
      ],
      "execution_count": 13,
      "outputs": [
        {
          "output_type": "execute_result",
          "data": {
            "text/plain": [
              "['Roda', 'mundo,', 'roda', 'gigante,', 'roda', 'moinho,', 'roda', 'pião.']"
            ]
          },
          "metadata": {},
          "execution_count": 13
        }
      ]
    },
    {
      "cell_type": "code",
      "metadata": {
        "colab": {
          "base_uri": "https://localhost:8080/",
          "height": 36
        },
        "id": "kJrDidYjPKp3",
        "outputId": "92a7883d-1ea8-4397-9af9-630fff7409e8"
      },
      "source": [
        "cancao.upper()"
      ],
      "execution_count": 16,
      "outputs": [
        {
          "output_type": "execute_result",
          "data": {
            "application/vnd.google.colaboratory.intrinsic+json": {
              "type": "string"
            },
            "text/plain": [
              "'RODA MUNDO, RODA GIGANTE, RODA MOINHO, RODA PIÃO.'"
            ]
          },
          "metadata": {},
          "execution_count": 16
        }
      ]
    },
    {
      "cell_type": "code",
      "metadata": {
        "colab": {
          "base_uri": "https://localhost:8080/"
        },
        "id": "l6qpJ1AoPX-w",
        "outputId": "2137dbae-1918-423b-f074-6659c9b627f5"
      },
      "source": [
        "cancao.count(\",\")"
      ],
      "execution_count": 20,
      "outputs": [
        {
          "output_type": "execute_result",
          "data": {
            "text/plain": [
              "3"
            ]
          },
          "metadata": {},
          "execution_count": 20
        }
      ]
    },
    {
      "cell_type": "markdown",
      "metadata": {
        "id": "guZMHXVq0FnC"
      },
      "source": [
        "Extraia da string abaixo o valor da taxa **selic** na variável `selic` e o valor do **ano** na variavel `ano`. Imprima os valores na tela."
      ]
    },
    {
      "cell_type": "code",
      "metadata": {
        "id": "cbx_P4IQ0agK"
      },
      "source": [
        "noticia = 'Selic vai a 2,75% e supera expectativas; é a primeira alta em 6 anos.'"
      ],
      "execution_count": 21,
      "outputs": []
    },
    {
      "cell_type": "code",
      "metadata": {
        "colab": {
          "base_uri": "https://localhost:8080/"
        },
        "id": "ZmRgjvM3TyF1",
        "outputId": "c30c5325-5ef9-4ac8-dacd-ec5d00b5cdf0"
      },
      "source": [
        "p_selic = noticia.find('%')\n",
        "selic = noticia[p_selic-4:p_selic]\n",
        "print(f'A SELIC é: {selic}%')\n",
        "p_ano = noticia.find('anos')\n",
        "ano = noticia[p_ano-2:p_ano]\n",
        "print(f'O período foi de: {ano}anos')"
      ],
      "execution_count": 25,
      "outputs": [
        {
          "output_type": "stream",
          "name": "stdout",
          "text": [
            "A SELIC é: 2,75%\n",
            "O período foi de: 6 anos\n"
          ]
        }
      ]
    },
    {
      "cell_type": "markdown",
      "metadata": {
        "id": "wWzbu-OC0z3L"
      },
      "source": [
        "---"
      ]
    },
    {
      "cell_type": "markdown",
      "metadata": {
        "id": "no8w_Ati01xP"
      },
      "source": [
        "## 4\\. Booleanos"
      ]
    },
    {
      "cell_type": "markdown",
      "metadata": {
        "id": "D_0tC3SC099N"
      },
      "source": [
        "Utilize a tabela da verdade para responder: qual o valor da variável x?"
      ]
    },
    {
      "cell_type": "code",
      "metadata": {
        "id": "XwIEbxf91SpU",
        "colab": {
          "base_uri": "https://localhost:8080/"
        },
        "outputId": "3bfbee81-e702-4405-815c-f6dddb513f78"
      },
      "source": [
        "a = False\n",
        "b = True\n",
        "\n",
        "x = not a & b\n",
        "\n",
        "print(x)"
      ],
      "execution_count": 27,
      "outputs": [
        {
          "output_type": "stream",
          "name": "stdout",
          "text": [
            "True\n"
          ]
        }
      ]
    }
  ]
}